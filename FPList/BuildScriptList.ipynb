{
 "cells": [
  {
   "cell_type": "markdown",
   "metadata": {},
   "source": [
    "CSV generated on databricks notebook `#232437` on Nov 27"
   ]
  },
  {
   "cell_type": "code",
   "execution_count": 40,
   "metadata": {},
   "outputs": [],
   "source": [
    "import pandas as pd\n",
    "%matplotlib inline"
   ]
  },
  {
   "cell_type": "code",
   "execution_count": 21,
   "metadata": {},
   "outputs": [
    {
     "data": {
      "text/html": [
       "<div>\n",
       "<style scoped>\n",
       "    .dataframe tbody tr th:only-of-type {\n",
       "        vertical-align: middle;\n",
       "    }\n",
       "\n",
       "    .dataframe tbody tr th {\n",
       "        vertical-align: top;\n",
       "    }\n",
       "\n",
       "    .dataframe thead th {\n",
       "        text-align: right;\n",
       "    }\n",
       "</style>\n",
       "<table border=\"1\" class=\"dataframe\">\n",
       "  <thead>\n",
       "    <tr style=\"text-align: right;\">\n",
       "      <th></th>\n",
       "      <th>script_url_stemmed</th>\n",
       "      <th>script_url_domain</th>\n",
       "      <th>filter</th>\n",
       "      <th>regex</th>\n",
       "    </tr>\n",
       "  </thead>\n",
       "  <tbody>\n",
       "    <tr>\n",
       "      <th>0</th>\n",
       "      <td>cdn.justuno.com/mwgt_4.1.js</td>\n",
       "      <td>justuno.com</td>\n",
       "      <td>||justuno.com/*mwgt_4.1.js^</td>\n",
       "      <td>justuno.com/.+mwgt_4.1.js</td>\n",
       "    </tr>\n",
       "    <tr>\n",
       "      <th>1</th>\n",
       "      <td>h.online-metrix.net/fp/check.js</td>\n",
       "      <td>online-metrix.net</td>\n",
       "      <td>||online-metrix.net/*check.js^</td>\n",
       "      <td>online-metrix.net/.+check.js</td>\n",
       "    </tr>\n",
       "    <tr>\n",
       "      <th>2</th>\n",
       "      <td>sonar.semantiqo.com/c83ul/checking.js</td>\n",
       "      <td>semantiqo.com</td>\n",
       "      <td>||semantiqo.com/*checking.js^</td>\n",
       "      <td>semantiqo.com/.+checking.js</td>\n",
       "    </tr>\n",
       "    <tr>\n",
       "      <th>3</th>\n",
       "      <td>ismatlab.com/cp/public/js/cp.js</td>\n",
       "      <td>ismatlab.com</td>\n",
       "      <td>||ismatlab.com/*cp.js^</td>\n",
       "      <td>ismatlab.com/.+cp.js</td>\n",
       "    </tr>\n",
       "    <tr>\n",
       "      <th>4</th>\n",
       "      <td>static-login.sendpulse.com/apps/fc3/build/dh-l...</td>\n",
       "      <td>sendpulse.com</td>\n",
       "      <td>||sendpulse.com/*dh-libs.js^</td>\n",
       "      <td>sendpulse.com/.+dh-libs.js</td>\n",
       "    </tr>\n",
       "  </tbody>\n",
       "</table>\n",
       "</div>"
      ],
      "text/plain": [
       "                                  script_url_stemmed  script_url_domain  \\\n",
       "0                        cdn.justuno.com/mwgt_4.1.js        justuno.com   \n",
       "1                    h.online-metrix.net/fp/check.js  online-metrix.net   \n",
       "2              sonar.semantiqo.com/c83ul/checking.js      semantiqo.com   \n",
       "3                    ismatlab.com/cp/public/js/cp.js       ismatlab.com   \n",
       "4  static-login.sendpulse.com/apps/fc3/build/dh-l...      sendpulse.com   \n",
       "\n",
       "                           filter                         regex  \n",
       "0     ||justuno.com/*mwgt_4.1.js^     justuno.com/.+mwgt_4.1.js  \n",
       "1  ||online-metrix.net/*check.js^  online-metrix.net/.+check.js  \n",
       "2   ||semantiqo.com/*checking.js^   semantiqo.com/.+checking.js  \n",
       "3          ||ismatlab.com/*cp.js^          ismatlab.com/.+cp.js  \n",
       "4    ||sendpulse.com/*dh-libs.js^    sendpulse.com/.+dh-libs.js  "
      ]
     },
     "execution_count": 21,
     "metadata": {},
     "output_type": "execute_result"
    }
   ],
   "source": [
    "df = pd.read_csv('disconnect_scripts.csv')\n",
    "df.head()"
   ]
  },
  {
   "cell_type": "code",
   "execution_count": 22,
   "metadata": {},
   "outputs": [
    {
     "data": {
      "text/plain": [
       "80"
      ]
     },
     "execution_count": 22,
     "metadata": {},
     "output_type": "execute_result"
    }
   ],
   "source": [
    "df.script_url_domain.nunique()"
   ]
  },
  {
   "cell_type": "code",
   "execution_count": 23,
   "metadata": {},
   "outputs": [
    {
     "data": {
      "text/plain": [
       "487"
      ]
     },
     "execution_count": 23,
     "metadata": {},
     "output_type": "execute_result"
    }
   ],
   "source": [
    "df['filter'].nunique()"
   ]
  },
  {
   "cell_type": "markdown",
   "metadata": {},
   "source": [
    "This all matches with databricks notebook."
   ]
  },
  {
   "cell_type": "code",
   "execution_count": 24,
   "metadata": {},
   "outputs": [],
   "source": [
    "lines = []\n",
    "lines.append('! Title: Fingerprinting Script Filters')\n",
    "lines.append('! Description: Scripts to block')\n",
    "lines.append('! Expires: 100 days')\n",
    "lines.extend(sorted(df['filter'].unique()))\n",
    "\n",
    "with open('../src/treatmentScript/assets/script_list.txt', 'w') as f:\n",
    "    f.write('\\n'.join(lines))"
   ]
  },
  {
   "cell_type": "code",
   "execution_count": null,
   "metadata": {},
   "outputs": [],
   "source": []
  },
  {
   "cell_type": "code",
   "execution_count": null,
   "metadata": {},
   "outputs": [],
   "source": []
  },
  {
   "cell_type": "markdown",
   "metadata": {},
   "source": [
    "# Full domain block those that appear to be randomizing path"
   ]
  },
  {
   "cell_type": "code",
   "execution_count": 51,
   "metadata": {},
   "outputs": [],
   "source": [
    "high_count = (\n",
    "    df[['script_url_domain', 'filter']]\n",
    "    .drop_duplicates()\n",
    "    .groupby('script_url_domain')\n",
    "    .count()\n",
    "    .sort_values(by='filter', ascending=False)\n",
    ")"
   ]
  },
  {
   "cell_type": "code",
   "execution_count": 52,
   "metadata": {},
   "outputs": [
    {
     "data": {
      "text/plain": [
       "<matplotlib.axes._subplots.AxesSubplot at 0x7f8c620cdee0>"
      ]
     },
     "execution_count": 52,
     "metadata": {},
     "output_type": "execute_result"
    },
    {
     "data": {
      "image/png": "[encoded data removed]",
      "text/plain": [
       "<Figure size 432x288 with 1 Axes>"
      ]
     },
     "metadata": {
      "needs_background": "light"
     },
     "output_type": "display_data"
    }
   ],
   "source": [
    "high_count.plot.hist(bins=100)"
   ]
  },
  {
   "cell_type": "code",
   "execution_count": 98,
   "metadata": {},
   "outputs": [
    {
     "data": {
      "text/plain": [
       "22"
      ]
     },
     "execution_count": 98,
     "metadata": {},
     "output_type": "execute_result"
    }
   ],
   "source": [
    "over_two = high_count[high_count['filter'] > 2]\n",
    "len(over_two)"
   ]
  },
  {
   "cell_type": "code",
   "execution_count": 99,
   "metadata": {},
   "outputs": [
    {
     "name": "stdout",
     "output_type": "stream",
     "text": [
      "---------------- bitmedia.io\n",
      "['||bitmedia.io/*5a0ad92bfc42f6001cb51175^', '||bitmedia.io/*59b999c98995730020ff8a69^', '||bitmedia.io/*5bd2b4ba474087000feabf79^', '||bitmedia.io/*5be4ce375a351c16d91fc251^', '||bitmedia.io/*5a596516c4576d001cbce1e3^', '||bitmedia.io/*5a9964197fcae8000f6245fa^', '||bitmedia.io/*5b6494070c5ad50010dd2a1e^', '||bitmedia.io/*5b6ad76e0721410010b0b212^', '||bitmedia.io/*5a5964c8c4576d001cbce1c6^', '||bitmedia.io/*5b1ec3a2277c7a001055c490^', '||bitmedia.io/*54e1aafd45200a6669f6ddc6^', '||bitmedia.io/*59984631f19090002025f971^', '||bitmedia.io/*5a0ada46fc42f6001cb511c0^', '||bitmedia.io/*5bff2adbf94159078cfe72bf^', '||bitmedia.io/*5bfcf291e633f21865159b7c^', '||bitmedia.io/*57e4fdf37056922c667bec93^', '||bitmedia.io/*5a0ad9dffc42f6001cb51180^', '||bitmedia.io/*5bff2b02f9415990cdfe72c8^', '||bitmedia.io/*5c29d9151cea37070ac280df^', '||bitmedia.io/*59a3e73d256cda0021718231^', '||bitmedia.io/*583276a41e87c40008f3e881^', '||bitmedia.io/*5ac0079e2e08e60010dfd6f7^', '||bitmedia.io/*5bff2ab9f94159077ffe72b6^', '||bitmedia.io/*5c2cd53e1cea37ffb9c2cffa^', '||bitmedia.io/*5a99a5d37fcae8000f625474^', '||bitmedia.io/*5bc5b09670d9c40016188632^', '||bitmedia.io/*5b87d8ae41293f0010ba79fe^', '||bitmedia.io/*5a9818a37fcae8000f61f5b4^', '||bitmedia.io/*5a79ee3bb9551900208b03f7^', '||bitmedia.io/*5baa64514e23220010e4e011^', '||bitmedia.io/*5952208a6d4b2a002038c3c5^', '||bitmedia.io/*5a170e756c4218001c70f74a^', '||bitmedia.io/*5b0a85c22b2ba20010bf2fd8^', '||bitmedia.io/*5bb11e04ed87360016df431c^', '||bitmedia.io/*5aacf1b248c7d6000f36ded7^', '||bitmedia.io/*5ae2e5f3d8189a00104cb432^', '||bitmedia.io/*5b6489630c5ad50010dd2893^', '||bitmedia.io/*5bf417ac7b68775ebd055217^', '||bitmedia.io/*5afaf0541b92e00010c8c177^', '||bitmedia.io/*5ab823d714fee3001022db2d^', '||bitmedia.io/*5c2fd8df1cea37ccaec32fe8^', '||bitmedia.io/*56b8ae94cf044a152c0c0676^', '||bitmedia.io/*59e4727e9e068c001ccf2c55^', '||bitmedia.io/*5a9968457fcae8000f6246fc^', '||bitmedia.io/*5c22f582c1011b8c280a0af0^', '||bitmedia.io/*5aabe21c26ae8c000f967328^', '||bitmedia.io/*59ad2d677aed990021bc5b58^', '||bitmedia.io/*59f449287dc4c2001c4fe775^', '||bitmedia.io/*591b2cc3b788be0020add3c9^', '||bitmedia.io/*585d35b2d4b89e0007fd6426^', '||bitmedia.io/*59313c672d6cd90020f38a80^', '||bitmedia.io/*5a0ad768fc42f6001cb5111e^', '||bitmedia.io/*59889be7d0e7760021d52dc6^', '||bitmedia.io/*5be42676c091b40010c270d5^', '||bitmedia.io/*5c3ef0b46bc96eb1ede7f155^', '||bitmedia.io/*5a5a9336c4576d001cbd1f2d^', '||bitmedia.io/*56781e7a3112aa7205330a6c^', '||bitmedia.io/*59e92fa812b158001f30cdb9^', '||bitmedia.io/*5bf1de341dc90655e8e4f736^', '||bitmedia.io/*5a9f5fe6a2f1090010f34ba3^', '||bitmedia.io/*5a08f3027e9bdb001c575950^', '||bitmedia.io/*58739f74bb5e60000761a1af^', '||bitmedia.io/*556831f5d8345fdb6e26da31^', '||bitmedia.io/*5be0c0c6c091b40010c1f214^', '||bitmedia.io/*57d927d37056922c667ac06e^', '||bitmedia.io/*5b0b0baf2b2ba20010bf44cd^', '||bitmedia.io/*5bc59e2fdca8330010decaf6^', '||bitmedia.io/*5bf112ce1dc90613ace4dd3e^', '||bitmedia.io/*5afaefb81b92e00010c8c138^', '||bitmedia.io/*5b980712672bd20010ffee28^', '||bitmedia.io/*5ae26b04d8189a00104ca4b8^', '||bitmedia.io/*58beeeb6d2094a0008ec7e78^', '||bitmedia.io/*59e1f016aff7ca001c9ee433^', '||bitmedia.io/*5a80ae4652a8140020e37a0c^', '||bitmedia.io/*5bf1112b1dc906eabde4dcfc^', '||bitmedia.io/*59721c5dd765ca00201493fa^', '||bitmedia.io/*5ae9e673d8189a00104e07a7^', '||bitmedia.io/*5a7da64152a8140020e2db92^', '||bitmedia.io/*5c4ec6da885570f9d1ad4ae9^', '||bitmedia.io/*5ba93c43d3cbda0010496278^', '||bitmedia.io/*5a4e12b61e56db001b28a508^', '||bitmedia.io/*5a59ceaec4576d001cbcf315^', '||bitmedia.io/*5b58f88917356f00108024d8^', '||bitmedia.io/*58739745bb5e60000761a092^', '||bitmedia.io/*5ba1479b53fc6d3b93ba5a2d^', '||bitmedia.io/*5a99a1f07fcae8000f6253b2^', '||bitmedia.io/*5c51d65bff137f966572b8ce^', '||bitmedia.io/*5b8d483bdb7f1500161dc68d^', '||bitmedia.io/*5a9fb88aa2f1090010f35992^', '||bitmedia.io/*5cfa56f6ccc2d55ff61bb835^', '||bitmedia.io/*5cfa4e6accc2d5051f1bb42d^', '||bitmedia.io/*5baa61964e23220010e4df4f^', '||bitmedia.io/*5c5456f78db9ccea0a8b2da4^', '||bitmedia.io/*5a9966bd7fcae8000f6246a5^', '||bitmedia.io/*56fa493302e66fd33c29e97c^', '||bitmedia.io/*5a9993217fcae8000f625157^', '||bitmedia.io/*5bf1db621dc90638dbe4f663^', '||bitmedia.io/*5bf418647b6877f809055226^', '||bitmedia.io/*5be0c09cc091b40010c1f20c^', '||bitmedia.io/*586f0ca89776830007644269^', '||bitmedia.io/*5a59657fc4576d001cbce1fb^', '||bitmedia.io/*59f4abce7dc4c2001c50032a^', '||bitmedia.io/*5c51d62cff137f7c8572b8c6^', '||bitmedia.io/*5ba147c853fc6d3b93ba5a37^', '||bitmedia.io/*5ad5a047750fa200103d2b11^', '||bitmedia.io/*5a9819a37fcae8000f61f5f1^', '||bitmedia.io/*5936b7a087289f00201611e8^', '||bitmedia.io/*5a170ef16c4218001c70f770^', '||bitmedia.io/*591c32ebdc9c7800208c7e53^', '||bitmedia.io/*57daa8e97056922c667ae826^', '||bitmedia.io/*58f477dcd13e840007e7d632^', '||bitmedia.io/*5ae9e603d8189a00104e0783^', '||bitmedia.io/*56f55231d9d2796526cb480e^', '||bitmedia.io/*5c57028c8a5294827314a82e^', '||bitmedia.io/*5a56230e2d8d1e001c89132e^', '||bitmedia.io/*5a9990587fcae8000f6250df^', '||bitmedia.io/*59982395f19090002025ef82^', '||bitmedia.io/*5a4e0d641e56db001b28a3fb^', '||bitmedia.io/*5a5c28dac4576d001cbd63a8^', '||bitmedia.io/*5af1be4a0e51eb001081708f^', '||bitmedia.io/*5936cbc187289f002016155d^', '||bitmedia.io/*591b2e57b788be0020add413^', '||bitmedia.io/*5aa25ae99d7e67000fd11bcf^', '||bitmedia.io/*5a9afa51a2f1090010f2701f^', '||bitmedia.io/*5a99631d7fcae8000f6245e4^', '||bitmedia.io/*58beee98d2094a0008ec7e70^', '||bitmedia.io/*5a99a6a17fcae8000f62548a^']\n",
      "---------------- xcvgdf.party\n",
      "['||xcvgdf.party/*1475^', '||xcvgdf.party/*1323^', '||xcvgdf.party/*1276^', '||xcvgdf.party/*455^', '||xcvgdf.party/*1173^', '||xcvgdf.party/*439^', '||xcvgdf.party/*1258^', '||xcvgdf.party/*1743^', '||xcvgdf.party/*1442^', '||xcvgdf.party/*1831^', '||xcvgdf.party/*1453^', '||xcvgdf.party/*1104^', '||xcvgdf.party/*522^', '||xcvgdf.party/*1107^', '||xcvgdf.party/*1211^', '||xcvgdf.party/*1659^', '||xcvgdf.party/*656^', '||xcvgdf.party/*1995^', '||xcvgdf.party/*1843^', '||xcvgdf.party/*425^', '||xcvgdf.party/*491^', '||xcvgdf.party/*1223^', '||xcvgdf.party/*468^', '||xcvgdf.party/*1513^', '||xcvgdf.party/*1886^', '||xcvgdf.party/*1181^', '||xcvgdf.party/*1331^', '||xcvgdf.party/*1396^', '||xcvgdf.party/*481^', '||xcvgdf.party/*1996^', '||xcvgdf.party/*1616^', '||xcvgdf.party/*431^', '||xcvgdf.party/*1423^', '||xcvgdf.party/*1821^', '||xcvgdf.party/*164^', '||xcvgdf.party/*1578^', '||xcvgdf.party/*1205^', '||xcvgdf.party/*1167^', '||xcvgdf.party/*1051^', '||xcvgdf.party/*1169^', '||xcvgdf.party/*435^', '||xcvgdf.party/*1587^', '||xcvgdf.party/*1279^', '||xcvgdf.party/*1574^', '||xcvgdf.party/*655^', '||xcvgdf.party/*1755^', '||xcvgdf.party/*485^', '||xcvgdf.party/*448^', '||xcvgdf.party/*654^', '||xcvgdf.party/*1678^', '||xcvgdf.party/*1327^', '||xcvgdf.party/*1212^', '||xcvgdf.party/*1923^', '||xcvgdf.party/*1646^', '||xcvgdf.party/*858^', '||xcvgdf.party/*443^', '||xcvgdf.party/*1224^', '||xcvgdf.party/*1651^', '||xcvgdf.party/*1650^']\n",
      "---------------- clickguard.com\n",
      "['||clickguard.com/*RagAwVif^', '||clickguard.com/*PW6E3JNr^', '||clickguard.com/*gB8YzzQ0^', '||clickguard.com/*7BYcL6nD^', '||clickguard.com/*QRrJUpKY^', '||clickguard.com/*KsNIeBlt^', '||clickguard.com/*n4ywWWu0^', '||clickguard.com/*AbyVETCX^', '||clickguard.com/*hAkPpReQ^', '||clickguard.com/*UVPLoUk9^', '||clickguard.com/*6R5kZlfv^', '||clickguard.com/*dTzuyz1B^', '||clickguard.com/*Fo3Vwmfs^', '||clickguard.com/*WAG7JnfX^', '||clickguard.com/*8N0eYOkB^', '||clickguard.com/*1mTAw5OF^', '||clickguard.com/*12jcw5LC^', '||clickguard.com/*uVgFjpqD^', '||clickguard.com/*3qxRNARq^', '||clickguard.com/*Q1pseaft^', '||clickguard.com/*yLkyX4tI^', '||clickguard.com/*UBrrZy8i^', '||clickguard.com/*lBlVx6Ds^', '||clickguard.com/*i9R76Qgr^', '||clickguard.com/*OnBmFldq^', '||clickguard.com/*6SZnCIBS^', '||clickguard.com/*DNvWSNpY^', '||clickguard.com/*S3gfKZUU^', '||clickguard.com/*NUhH906X^', '||clickguard.com/*VOJl1oPA^', '||clickguard.com/*ifz7UGNj^', '||clickguard.com/*eNibNZ1f^', '||clickguard.com/*UZJOqhqa^', '||clickguard.com/*KdNFBM92^', '||clickguard.com/*cIShFBXy^', '||clickguard.com/*Yo6hddVP^', '||clickguard.com/*lwUjOrY8^', '||clickguard.com/*UIjszVTB^', '||clickguard.com/*SzDOqcbL^', '||clickguard.com/*ZAVaJFOv^', '||clickguard.com/*dCduSdNB^']\n",
      "---------------- c3tag.com\n",
      "['||c3tag.com/*v.js^', '||c3tag.com/*c3metrics-595.js^', '||c3tag.com/*c3metrics-214.js^', '||c3tag.com/*c3metrics-694.js^', '||c3tag.com/*c3metrics-126.js^', '||c3tag.com/*c3metrics-793.js^', '||c3tag.com/*c3metrics-593.js^', '||c3tag.com/*c3metrics-169.js^', '||c3tag.com/*c3metrics-270.js^', '||c3tag.com/*c3metrics-352.js^', '||c3tag.com/*c3metrics-218.js^', '||c3tag.com/*c3metrics-802.js^', '||c3tag.com/*c3metrics-279.js^', '||c3tag.com/*c3metrics-253.js^', '||c3tag.com/*c3metrics-554.js^', '||c3tag.com/*c3metrics-547.js^', '||c3tag.com/*c3metrics-252.js^', '||c3tag.com/*c3metrics-354.js^', '||c3tag.com/*c3metrics-603.js^', '||c3tag.com/*c3metrics-308.js^', '||c3tag.com/*c3metrics-830.js^', '||c3tag.com/*c3metrics-353.js^', '||c3tag.com/*c3metrics-116.js^', '||c3tag.com/*c3metrics-538.js^', '||c3tag.com/*c3metrics-190.js^', '||c3tag.com/*c3metrics-379.js^', '||c3tag.com/*c3metrics-401.js^', '||c3tag.com/*c3metrics-246.js^', '||c3tag.com/*c3metrics-546.js^', '||c3tag.com/*c3metrics-841.js^', '||c3tag.com/*c3metrics-813.js^', '||c3tag.com/*c3metrics-562.js^', '||c3tag.com/*c3metrics-446.js^', '||c3tag.com/*c3metrics-536.js^', '||c3tag.com/*c3metrics-229.js^', '||c3tag.com/*c3metrics-274.js^', '||c3tag.com/*c3metrics-553.js^', '||c3tag.com/*c3metrics-414.js^', '||c3tag.com/*c3metrics-412.js^']\n",
      "---------------- adnium.com\n",
      "['||adnium.com/*static^', '||adnium.com/*1921701^', '||adnium.com/*popunder^', '||adnium.com/*1900833^', '||adnium.com/*1919541^', '||adnium.com/*1787736^', '||adnium.com/*1921702^', '||adnium.com/*1901292^', '||adnium.com/*1709804^', '||adnium.com/*1193835^', '||adnium.com/*1832739^', '||adnium.com/*1787703^', '||adnium.com/*1878258^', '||adnium.com/*1193827^', '||adnium.com/*1878256^', '||adnium.com/*4765173^', '||adnium.com/*4765170^', '||adnium.com/*4780922^', '||adnium.com/*4765174^', '||adnium.com/*4765171^', '||adnium.com/*4780924^', '||adnium.com/*4783594^', '||adnium.com/*4780906^', '||adnium.com/*4780896^', '||adnium.com/*4780903^', '||adnium.com/*1878261^', '||adnium.com/*1718608^', '||adnium.com/*1912550^', '||adnium.com/*1709817^']\n",
      "---------------- bgclck.me\n",
      "['||bgclck.me/*1674^', '||bgclck.me/*1778^', '||bgclck.me/*1689^', '||bgclck.me/*1163^', '||bgclck.me/*1857^', '||bgclck.me/*543^', '||bgclck.me/*1690^', '||bgclck.me/*1777^', '||bgclck.me/*814^', '||bgclck.me/*1968^', '||bgclck.me/*1427^', '||bgclck.me/*1728^', '||bgclck.me/*1687^', '||bgclck.me/*545^', '||bgclck.me/*1970^']\n",
      "---------------- appcast.io\n",
      "['||appcast.io/*generic3-4198.js^', '||appcast.io/*madgex-3559.js^', '||appcast.io/*generic1-5191.js^', '||appcast.io/*generic1-2394.js^', '||appcast.io/*bayard1-2967.js^', '||appcast.io/*reed-3561.js^', '||appcast.io/*generic1-6607.js^', '||appcast.io/*bayard1-3001.js^', '||appcast.io/*madgex-3560.js^', '||appcast.io/*icims-4223.js^', '||appcast.io/*tbst-54.js^', '||appcast.io/*generic1-4006.js^', '||appcast.io/*generic1-5722.js^', '||appcast.io/*generic3-7124.js^']\n",
      "---------------- rollick.io\n",
      "['||rollick.io/*01109^', '||rollick.io/*01300^', '||rollick.io/*00304^', '||rollick.io/*00303^', '||rollick.io/*11958^', '||rollick.io/*01347^', '||rollick.io/*00710^', '||rollick.io/*00294^', '||rollick.io/*08104^', '||rollick.io/*00291^', '||rollick.io/*05500^', '||rollick.io/*05589^']\n",
      "---------------- pinpoll.com\n",
      "['||pinpoll.com/*global.js^', '||pinpoll.com/*embed-4816076243f03fdc1284cfac8bda9109.js^', '||pinpoll.com/*embed-b0475b6eafaf4f14bea29c410665a385.js^', '||pinpoll.com/*embed-272e66c16fbc79ccb10adc970a80b315.js^', '||pinpoll.com/*embed-eee72dc716974f531810ebc56ed39619.js^', '||pinpoll.com/*embed-5373049b4045ec0699ab0c2ed3151223.js^', '||pinpoll.com/*pa.js^', '||pinpoll.com/*embed-a2f0c1df30185bca760649a6d559829f.js^', '||pinpoll.com/*vendor.js^', '||pinpoll.com/*embed-6860968a1897aef072664f0f7fd35ff1.js^', '||pinpoll.com/*embed-9bfc516337bde0abe305957ff37724e6.js^']\n",
      "---------------- shoporielder.pro\n",
      "['||shoporielder.pro/*DeAr3w^', '||shoporielder.pro/*p^', '||shoporielder.pro/*yZ0LzdNsTkEixcOTDAQGxa^', '||shoporielder.pro/*T_gn3K^', '||shoporielder.pro/*^', '||shoporielder.pro/*MZ0xNgDuARxe^', '||shoporielder.pro/*MBiT0kz-M-TvAqywMzzIYWzz^', '||shoporielder.pro/*2d^', '||shoporielder.pro/*z-EO4lMPjpMs3.^', '||shoporielder.pro/*DdkQyPMcDtYcwf^']\n",
      "---------------- mystighty.info\n",
      "['||mystighty.info/*Mh2P^', '||mystighty.info/*OuTYUs3c^', '||mystighty.info/*M-zSYPzNMhjGY-2sNSSW0RzANdjhMdySNxjRgl5u^', '||mystighty.info/*xDNGTdUGxe^', '||mystighty.info/*3k^', '||mystighty.info/*5oOzTsYX1i^', '||mystighty.info/*SA0hy_NNTDcp4POTDlgRxK^', '||mystighty.info/*DOUE1M^', '||mystighty.info/*^', '||mystighty.info/*zGOODXMo5p^']\n",
      "---------------- psonstrentie.info\n",
      "['||psonstrentie.info/*AJyYNUToIS1N^', '||psonstrentie.info/*OJTnAxxz^', '||psonstrentie.info/*NzjNIjy_^', '||psonstrentie.info/*McyT0kyxOvDvAHxKOhDyURxU^', '||psonstrentie.info/*^', '||psonstrentie.info/*MrjYIlxZ^', '||psonstrentie.info/*SN0VyBOgDOAIyONKjuUJzc^', '||psonstrentie.info/*MgxL^']\n",
      "---------------- doubleverify.com\n",
      "['||doubleverify.com/*dv-measurements253.js^', '||doubleverify.com/*dvbs_src_internal62.js^', '||doubleverify.com/*bsredirect5_internal40.js^', '||doubleverify.com/*dvbs_src_internal67.js^', '||doubleverify.com/*dv-measurements279.js^', '||doubleverify.com/*bsredirect5_internal44.js^', '||doubleverify.com/*dv-measurements277.js^', '||doubleverify.com/*dv-measurements254.js^']\n",
      "---------------- pixlee.com\n",
      "['||pixlee.com/*pixlee.shopify.v2.prod.js^', '||pixlee.com/*pixlee_widget_1_0_0.js^', '||pixlee.com/*pixlee_events.js^', '||pixlee.com/*pixlee.bigcommerce.v1.prod.js^', '||pixlee.com/*pixlee_widget_1_0_0-135eedced5a8480207db02c784d56a1f1f007e49afc61f947973599152342a58.js^']\n",
      "---------------- opolen.com.br\n",
      "['||opolen.com.br/*polen-lojaintegrada-pollinator.min.js^', '||opolen.com.br/*polen-tray-pollinator.min.js^', '||opolen.com.br/*polen-nuvemshop-pollinator.min.js^', '||opolen.com.br/*polen-generic-pollinator.min.js^', '||opolen.com.br/*polen-vtex-pollinator.min.js^']\n",
      "---------------- carts.guru\n",
      "['||carts.guru/*shopify-client.min.js^', '||carts.guru/*bundle.js^', '||carts.guru/*tracker.build.min.js^', '||carts.guru/*woocommerce-client.min.js^']\n",
      "---------------- sweeterge.info\n",
      "['||sweeterge.info/*ih0yzeOYT-YI5WOMDKgw5k^', '||sweeterge.info/*cPDS9K6UbK2O5BlCSRWEQW9GMXzTIY4ROWSL0TzFMLjDkBwW^', '||sweeterge.info/*cIDV9H6NbW2D5VlNSMWFQG9DMPjLYZzONETBYT5KOQSS0ZyXNXjMMY1QNCzTMT0E^', '||sweeterge.info/*xF^']\n",
      "---------------- viral-loops.com\n",
      "['||viral-loops.com/*vl.min.js^', '||viral-loops.com/*vl_load.min.js^', '||viral-loops.com/*vl_load_v2.min.js^']\n",
      "---------------- wrethicap.info\n",
      "['||wrethicap.info/*p^', '||wrethicap.info/*MczaID5pOaT.Yc5j^', '||wrethicap.info/*MYwONYjHQbxy^']\n",
      "---------------- hilltopads.net\n",
      "['||hilltopads.net/*p^', '||hilltopads.net/*cCDS9T6FbK2H5YlPSTWVQQ9RMBjSYY4LOPTUECyUMFCG0RyGNCjUgM5YMCjCQQ5D^', '||hilltopads.net/*cWDA9V6QbA2U5BlASCWJQB9YMBjIYU4TOPTZQU5TMRiJ0PyZNRjKgK5DNZTPEL5T^']\n",
      "---------------- fuelx.com\n",
      "['||fuelx.com/*client.min.js^', '||fuelx.com/*tr-v5.min.js^', '||fuelx.com/*fp2.min.js^']\n",
      "---------------- provers.pro\n",
      "['||provers.pro/*QE=e=u^', '||provers.pro/*^', '||provers.pro/*p^']\n"
     ]
    }
   ],
   "source": [
    "for i in over_two.index.values:\n",
    "    print('----------------', i)\n",
    "    print(list(df[df.script_url_domain == i]['filter'].unique()))"
   ]
  },
  {
   "cell_type": "markdown",
   "metadata": {},
   "source": [
    "Exceptions:\n",
    "\n",
    "* provers.pro (3)\n",
    "* fuelx.com (2)\n",
    "* viral-loops.com (3)\n",
    "* carts.guru (4)\n",
    "* opolen.com.br(5)\n",
    "* pixlee.com (5)"
   ]
  },
  {
   "cell_type": "code",
   "execution_count": 111,
   "metadata": {},
   "outputs": [],
   "source": [
    "# Ensure I've typed out the exceptions correctly\n",
    "high_exceptions = [\n",
    "    'provers.pro', \n",
    "    'fuelx.com', \n",
    "    'viral-loops.com', \n",
    "    'carts.guru', \n",
    "    'opolen.com.br', \n",
    "    'pixlee.com',\n",
    "    'appcast.io', # appcast.io/pixels/*.js\n",
    "    'adnium.com', # adnium.com/warp/* and adnium.com/imvideo/*\n",
    "    'bitmedia.io', # Handcraft better bitmedia.io/js/adbybm.js/*\n",
    "    'doubleverify.com',  # Handcraft better cdn.doubleverify.com/dv*.js cdn.doubleverify.com/bsredirect*.js\n",
    "    'pinpoll.com', # Handcraft better pinpoll.com/assets/js/embed/embed-*.js\n",
    "    'c3tag.com', # Handcraft better c3tag.com/*c3metrics*\n",
    "    'xcvgdf.party', # Handcraft better - xcvgdf.party/lhzbsrfkjf/js/*\n",
    "    'rollick.io', # widget.rollick.io/*\n",
    "]\n",
    "for exception in high_exceptions:\n",
    "    assert exception in high_count.index.values, exception"
   ]
  },
  {
   "cell_type": "code",
   "execution_count": 112,
   "metadata": {},
   "outputs": [
    {
     "data": {
      "text/plain": [
       "{'bgclck.me',\n",
       " 'clickguard.com',\n",
       " 'hilltopads.net',\n",
       " 'mystighty.info',\n",
       " 'psonstrentie.info',\n",
       " 'shoporielder.pro',\n",
       " 'sweeterge.info',\n",
       " 'wrethicap.info'}"
      ]
     },
     "execution_count": 112,
     "metadata": {},
     "output_type": "execute_result"
    }
   ],
   "source": [
    "domains_to_full_domain_block = set(over_two.index) - set(high_exceptions)\n",
    "domains_to_full_domain_block"
   ]
  },
  {
   "cell_type": "code",
   "execution_count": 113,
   "metadata": {},
   "outputs": [],
   "source": [
    "lines = []\n",
    "lines.append('! Title: Fingerprinting Script Filters')\n",
    "lines.append('! Description: Scripts to block')\n",
    "lines.append('! Expires: 100 days')\n",
    "lines.extend(sorted(df['filter'].unique()))\n",
    "lines.extend([f'||{domain}^' for domain in domains_to_full_domain_block])\n",
    "# Hand crafted refinements\n",
    "lines.extend([\n",
    "    '||appcast.io/pixels/*.js^',\n",
    "    '||adnium.com/warp/*^',\n",
    "    '||adnium.com/imvideo/*^',\n",
    "    '||bitmedia.io/js/adbybm.js/*^',\n",
    "    '||doubleverify.com/dv*.js^',\n",
    "    '||doubleverify.com/bsredirect*.js^',\n",
    "    '||pinpoll.com/assets/js/embed/embed-*.js^',\n",
    "    '||c3tag.com/*c3metrics*^',\n",
    "    '||xcvgdf.party/*/js/*^',\n",
    "    '||widget.rollick.io/*^'\n",
    "])\n",
    "\n",
    "with open('../src/treatmentScript/assets/script_list.txt', 'w') as f:\n",
    "    f.write('\\n'.join(lines))"
   ]
  },
  {
   "cell_type": "code",
   "execution_count": null,
   "metadata": {},
   "outputs": [],
   "source": []
  }
 ],
 "metadata": {
  "kernelspec": {
   "display_name": "Python 3",
   "language": "python",
   "name": "python3"
  },
  "language_info": {
   "codemirror_mode": {
    "name": "ipython",
    "version": 3
   },
   "file_extension": ".py",
   "mimetype": "text/x-python",
   "name": "python",
   "nbconvert_exporter": "python",
   "pygments_lexer": "ipython3",
   "version": "3.8.0"
  }
 },
 "nbformat": 4,
 "nbformat_minor": 4
}

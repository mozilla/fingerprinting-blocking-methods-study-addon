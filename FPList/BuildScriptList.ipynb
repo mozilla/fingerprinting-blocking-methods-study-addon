{
 "cells": [
  {
   "cell_type": "markdown",
   "metadata": {},
   "source": [
    "CSV generated on databricks notebook `#232437` on Nov 26"
   ]
  },
  {
   "cell_type": "code",
   "execution_count": 1,
   "metadata": {},
   "outputs": [],
   "source": [
    "import pandas as pd"
   ]
  },
  {
   "cell_type": "code",
   "execution_count": 5,
   "metadata": {},
   "outputs": [
    {
     "data": {
      "text/html": [
       "<div>\n",
       "<style scoped>\n",
       "    .dataframe tbody tr th:only-of-type {\n",
       "        vertical-align: middle;\n",
       "    }\n",
       "\n",
       "    .dataframe tbody tr th {\n",
       "        vertical-align: top;\n",
       "    }\n",
       "\n",
       "    .dataframe thead th {\n",
       "        text-align: right;\n",
       "    }\n",
       "</style>\n",
       "<table border=\"1\" class=\"dataframe\">\n",
       "  <thead>\n",
       "    <tr style=\"text-align: right;\">\n",
       "      <th></th>\n",
       "      <th>script_url_stemmed</th>\n",
       "      <th>script_url_domain</th>\n",
       "      <th>filter</th>\n",
       "      <th>regex</th>\n",
       "    </tr>\n",
       "  </thead>\n",
       "  <tbody>\n",
       "    <tr>\n",
       "      <th>0</th>\n",
       "      <td>psonstrentie.info/cADY9C6hbq2F5_lkSgWUQz9/MUjq...</td>\n",
       "      <td>psonstrentie.info</td>\n",
       "      <td>||psonstrentie.info/*/AJyYNUToIS1N^</td>\n",
       "      <td>psonstrentie.info/.+/AJyYNUToIS1N</td>\n",
       "    </tr>\n",
       "    <tr>\n",
       "      <th>1</th>\n",
       "      <td>client.perimeterx.net/PXrf8vapwA/main.min.js</td>\n",
       "      <td>perimeterx.net</td>\n",
       "      <td>||perimeterx.net/*/main.min.js^</td>\n",
       "      <td>perimeterx.net/.+/main.min.js</td>\n",
       "    </tr>\n",
       "    <tr>\n",
       "      <th>2</th>\n",
       "      <td>api-identification.hotmart.com/id.min.js</td>\n",
       "      <td>hotmart.com</td>\n",
       "      <td>||hotmart.com/*/id.min.js^</td>\n",
       "      <td>hotmart.com/.+/id.min.js</td>\n",
       "    </tr>\n",
       "    <tr>\n",
       "      <th>3</th>\n",
       "      <td>sonar.semantiqo.com/c83ul/checking.js</td>\n",
       "      <td>semantiqo.com</td>\n",
       "      <td>||semantiqo.com/*/checking.js^</td>\n",
       "      <td>semantiqo.com/.+/checking.js</td>\n",
       "    </tr>\n",
       "    <tr>\n",
       "      <th>4</th>\n",
       "      <td>go.ero-advertising.com/loadeactrl.go</td>\n",
       "      <td>ero-advertising.com</td>\n",
       "      <td>||ero-advertising.com/*/loadeactrl.go^</td>\n",
       "      <td>ero-advertising.com/.+/loadeactrl.go</td>\n",
       "    </tr>\n",
       "  </tbody>\n",
       "</table>\n",
       "</div>"
      ],
      "text/plain": [
       "                                  script_url_stemmed    script_url_domain  \\\n",
       "0  psonstrentie.info/cADY9C6hbq2F5_lkSgWUQz9/MUjq...    psonstrentie.info   \n",
       "1       client.perimeterx.net/PXrf8vapwA/main.min.js       perimeterx.net   \n",
       "2           api-identification.hotmart.com/id.min.js          hotmart.com   \n",
       "3              sonar.semantiqo.com/c83ul/checking.js        semantiqo.com   \n",
       "4               go.ero-advertising.com/loadeactrl.go  ero-advertising.com   \n",
       "\n",
       "                                   filter  \\\n",
       "0     ||psonstrentie.info/*/AJyYNUToIS1N^   \n",
       "1         ||perimeterx.net/*/main.min.js^   \n",
       "2              ||hotmart.com/*/id.min.js^   \n",
       "3          ||semantiqo.com/*/checking.js^   \n",
       "4  ||ero-advertising.com/*/loadeactrl.go^   \n",
       "\n",
       "                                  regex  \n",
       "0     psonstrentie.info/.+/AJyYNUToIS1N  \n",
       "1         perimeterx.net/.+/main.min.js  \n",
       "2              hotmart.com/.+/id.min.js  \n",
       "3          semantiqo.com/.+/checking.js  \n",
       "4  ero-advertising.com/.+/loadeactrl.go  "
      ]
     },
     "execution_count": 5,
     "metadata": {},
     "output_type": "execute_result"
    }
   ],
   "source": [
    "df = pd.read_csv('disconnect_scripts.csv')\n",
    "df.head()"
   ]
  },
  {
   "cell_type": "code",
   "execution_count": 6,
   "metadata": {},
   "outputs": [
    {
     "data": {
      "text/plain": [
       "80"
      ]
     },
     "execution_count": 6,
     "metadata": {},
     "output_type": "execute_result"
    }
   ],
   "source": [
    "df.script_url_domain.nunique()"
   ]
  },
  {
   "cell_type": "code",
   "execution_count": 8,
   "metadata": {},
   "outputs": [
    {
     "data": {
      "text/plain": [
       "487"
      ]
     },
     "execution_count": 8,
     "metadata": {},
     "output_type": "execute_result"
    }
   ],
   "source": [
    "df['filter'].nunique()"
   ]
  },
  {
   "cell_type": "markdown",
   "metadata": {},
   "source": [
    "This all matches with databricks notebook."
   ]
  },
  {
   "cell_type": "code",
   "execution_count": 17,
   "metadata": {},
   "outputs": [],
   "source": [
    "lines = []\n",
    "lines.append('! Title: Fingerprinting Script Filters')\n",
    "lines.append('! Description: Scripts to block')\n",
    "lines.append('! Expires: 100 days')\n",
    "lines.extend(df['filter'].unique())\n",
    "\n",
    "with open('../src/treatmentScript/assets/script_list.txt', 'w') as f:\n",
    "    f.write('\\n'.join(lines))"
   ]
  }
 ],
 "metadata": {
  "kernelspec": {
   "display_name": "Python 3",
   "language": "python",
   "name": "python3"
  },
  "language_info": {
   "codemirror_mode": {
    "name": "ipython",
    "version": 3
   },
   "file_extension": ".py",
   "mimetype": "text/x-python",
   "name": "python",
   "nbconvert_exporter": "python",
   "pygments_lexer": "ipython3",
   "version": "3.8.0"
  }
 },
 "nbformat": 4,
 "nbformat_minor": 4
}

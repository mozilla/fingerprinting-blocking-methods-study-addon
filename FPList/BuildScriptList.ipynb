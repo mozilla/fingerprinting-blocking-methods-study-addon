{
 "cells": [
  {
   "cell_type": "markdown",
   "metadata": {},
   "source": [
    "CSV generated on databricks notebook `#232437` on Nov 27"
   ]
  },
  {
   "cell_type": "code",
   "execution_count": 20,
   "metadata": {},
   "outputs": [],
   "source": [
    "import pandas as pd"
   ]
  },
  {
   "cell_type": "code",
   "execution_count": 21,
   "metadata": {},
   "outputs": [
    {
     "data": {
      "text/html": [
       "<div>\n",
       "<style scoped>\n",
       "    .dataframe tbody tr th:only-of-type {\n",
       "        vertical-align: middle;\n",
       "    }\n",
       "\n",
       "    .dataframe tbody tr th {\n",
       "        vertical-align: top;\n",
       "    }\n",
       "\n",
       "    .dataframe thead th {\n",
       "        text-align: right;\n",
       "    }\n",
       "</style>\n",
       "<table border=\"1\" class=\"dataframe\">\n",
       "  <thead>\n",
       "    <tr style=\"text-align: right;\">\n",
       "      <th></th>\n",
       "      <th>script_url_stemmed</th>\n",
       "      <th>script_url_domain</th>\n",
       "      <th>filter</th>\n",
       "      <th>regex</th>\n",
       "    </tr>\n",
       "  </thead>\n",
       "  <tbody>\n",
       "    <tr>\n",
       "      <th>0</th>\n",
       "      <td>cdn.justuno.com/mwgt_4.1.js</td>\n",
       "      <td>justuno.com</td>\n",
       "      <td>||justuno.com/*mwgt_4.1.js^</td>\n",
       "      <td>justuno.com/.+mwgt_4.1.js</td>\n",
       "    </tr>\n",
       "    <tr>\n",
       "      <th>1</th>\n",
       "      <td>h.online-metrix.net/fp/check.js</td>\n",
       "      <td>online-metrix.net</td>\n",
       "      <td>||online-metrix.net/*check.js^</td>\n",
       "      <td>online-metrix.net/.+check.js</td>\n",
       "    </tr>\n",
       "    <tr>\n",
       "      <th>2</th>\n",
       "      <td>sonar.semantiqo.com/c83ul/checking.js</td>\n",
       "      <td>semantiqo.com</td>\n",
       "      <td>||semantiqo.com/*checking.js^</td>\n",
       "      <td>semantiqo.com/.+checking.js</td>\n",
       "    </tr>\n",
       "    <tr>\n",
       "      <th>3</th>\n",
       "      <td>ismatlab.com/cp/public/js/cp.js</td>\n",
       "      <td>ismatlab.com</td>\n",
       "      <td>||ismatlab.com/*cp.js^</td>\n",
       "      <td>ismatlab.com/.+cp.js</td>\n",
       "    </tr>\n",
       "    <tr>\n",
       "      <th>4</th>\n",
       "      <td>static-login.sendpulse.com/apps/fc3/build/dh-l...</td>\n",
       "      <td>sendpulse.com</td>\n",
       "      <td>||sendpulse.com/*dh-libs.js^</td>\n",
       "      <td>sendpulse.com/.+dh-libs.js</td>\n",
       "    </tr>\n",
       "  </tbody>\n",
       "</table>\n",
       "</div>"
      ],
      "text/plain": [
       "                                  script_url_stemmed  script_url_domain  \\\n",
       "0                        cdn.justuno.com/mwgt_4.1.js        justuno.com   \n",
       "1                    h.online-metrix.net/fp/check.js  online-metrix.net   \n",
       "2              sonar.semantiqo.com/c83ul/checking.js      semantiqo.com   \n",
       "3                    ismatlab.com/cp/public/js/cp.js       ismatlab.com   \n",
       "4  static-login.sendpulse.com/apps/fc3/build/dh-l...      sendpulse.com   \n",
       "\n",
       "                           filter                         regex  \n",
       "0     ||justuno.com/*mwgt_4.1.js^     justuno.com/.+mwgt_4.1.js  \n",
       "1  ||online-metrix.net/*check.js^  online-metrix.net/.+check.js  \n",
       "2   ||semantiqo.com/*checking.js^   semantiqo.com/.+checking.js  \n",
       "3          ||ismatlab.com/*cp.js^          ismatlab.com/.+cp.js  \n",
       "4    ||sendpulse.com/*dh-libs.js^    sendpulse.com/.+dh-libs.js  "
      ]
     },
     "execution_count": 21,
     "metadata": {},
     "output_type": "execute_result"
    }
   ],
   "source": [
    "df = pd.read_csv('disconnect_scripts.csv')\n",
    "df.head()"
   ]
  },
  {
   "cell_type": "code",
   "execution_count": 22,
   "metadata": {},
   "outputs": [
    {
     "data": {
      "text/plain": [
       "80"
      ]
     },
     "execution_count": 22,
     "metadata": {},
     "output_type": "execute_result"
    }
   ],
   "source": [
    "df.script_url_domain.nunique()"
   ]
  },
  {
   "cell_type": "code",
   "execution_count": 23,
   "metadata": {},
   "outputs": [
    {
     "data": {
      "text/plain": [
       "487"
      ]
     },
     "execution_count": 23,
     "metadata": {},
     "output_type": "execute_result"
    }
   ],
   "source": [
    "df['filter'].nunique()"
   ]
  },
  {
   "cell_type": "markdown",
   "metadata": {},
   "source": [
    "This all matches with databricks notebook."
   ]
  },
  {
   "cell_type": "code",
   "execution_count": 24,
   "metadata": {},
   "outputs": [],
   "source": [
    "lines = []\n",
    "lines.append('! Title: Fingerprinting Script Filters')\n",
    "lines.append('! Description: Scripts to block')\n",
    "lines.append('! Expires: 100 days')\n",
    "lines.extend(sorted(df['filter'].unique()))\n",
    "\n",
    "with open('../src/treatmentScript/assets/script_list.txt', 'w') as f:\n",
    "    f.write('\\n'.join(lines))"
   ]
  },
  {
   "cell_type": "code",
   "execution_count": null,
   "metadata": {},
   "outputs": [],
   "source": []
  }
 ],
 "metadata": {
  "kernelspec": {
   "display_name": "Python 3",
   "language": "python",
   "name": "python3"
  },
  "language_info": {
   "codemirror_mode": {
    "name": "ipython",
    "version": 3
   },
   "file_extension": ".py",
   "mimetype": "text/x-python",
   "name": "python",
   "nbconvert_exporter": "python",
   "pygments_lexer": "ipython3",
   "version": "3.8.0"
  }
 },
 "nbformat": 4,
 "nbformat_minor": 4
}
